{
 "cells": [
  {
   "cell_type": "markdown",
   "metadata": {},
   "source": [
    "# ITMGT 25.03 EE\n",
    "# Assignment 3B\n",
    "\n",
    "This is a data-cleaning assignment and is the second of two parts. This notebook is uploaded to our Github repository along with a csv of fake, dirty data called **recweekdata.csv**.\n",
    "\n",
    "In addition, you have a new file called **studentprofiles.csv** which has first and last names plus the genders of the students.\n",
    "\n",
    "The output of this assignment is to convert recweekdata.csv into processable data for statistics. Submit the following files through GitHub:\n",
    "1. A cleaned recweekdata.csv called **cleanrecweekdata3b.csv** **(5 points)**\n",
    "2. This notebook, containing the code (properly commented) that you used to clean the data **(5 points)**\n",
    "3. An html file of summary statistics from each column called **stats3b.html**. The requirements for the summary statistics are described below. **(10 points)**\n",
    "\n",
    "The outputs are similar to that of Assignment 3A, except that you will now use Pandas instead of Python lists.\n",
    "\n",
    "This entire assignment (3B) is worth 20 points.\n",
    "\n",
    "Upload your output files to your Github repositories. Make sure to send an email to **joben.ilagan@gmail.com** once you're done.\n",
    "\n",
    "This assignment is due on **Monday, July 9, 2019** at 12:00NN.\n",
    "\n",
    "Note: I understand you all need to review for LT 2. Think of this Assignment as practice. It's not meant to take you as long as 3A.\n",
    "\n",
    "#### Bonus Points:\n",
    "* +2 if submitted over (or before) the weekend (July 13-14)\n",
    "* +2 if CSS and div tags are used (but please don't spend too much time on this because you still need to review for the Long Test)"
   ]
  },
  {
   "cell_type": "code",
   "execution_count": 8,
   "metadata": {},
   "outputs": [],
   "source": [
    "import pandas as pd\n",
    "\n",
    "import re\n"
   ]
  },
  {
   "cell_type": "code",
   "execution_count": 9,
   "metadata": {},
   "outputs": [
    {
     "data": {
      "text/plain": [
       "Index(['firstname', 'lastname', 'birthmonth', 'birthday', 'birthyear',\n",
       "       'course', 'phonenumber'],\n",
       "      dtype='object')"
      ]
     },
     "execution_count": 9,
     "metadata": {},
     "output_type": "execute_result"
    }
   ],
   "source": [
    "data = pd.read_csv(\"recweekdata.csv\")\n",
    "data.columns"
   ]
  },
  {
   "cell_type": "code",
   "execution_count": 10,
   "metadata": {},
   "outputs": [
    {
     "data": {
      "text/plain": [
       "Index(['firstname', 'lastname', 'birthmonth', 'birthday', 'birthyear',\n",
       "       'course', 'phonenumber', 'gender'],\n",
       "      dtype='object')"
      ]
     },
     "execution_count": 10,
     "metadata": {},
     "output_type": "execute_result"
    }
   ],
   "source": [
    "## adding the genders to the main recweek file\n",
    "data2 = pd.read_csv(\"studentprofiles.csv\")\n",
    "\n",
    "data2.loc[:,\"gender\"]\n",
    "\n",
    "data[\"gender\"] = data2.loc[:,\"gender\"]\n",
    "\n",
    "## adding carriers to the main recweek  file\n",
    "\n",
    "data.columns\n"
   ]
  },
  {
   "cell_type": "code",
   "execution_count": 11,
   "metadata": {},
   "outputs": [],
   "source": [
    "## Code goes here\n",
    "\n",
    "#Cleansing dictionaries\n",
    "\n",
    "dic_month = {'11': 'November', '8': 'August', 'November': 'November', '3': 'March', 'April': 'April', '4': 'April', 'Oct': 'October', 'December': 'December', '12': 'December', '5': 'May', 'Aug': 'August', 'Jul': 'July', 'Mar': 'March', '10': 'October', '7': 'July', 'March': 'March', 'July': 'July', '1': 'January', 'Sep': 'September', 'August': 'August', 'January': 'January', 'Nov': 'November', '6': 'June', 'Apr': 'April', '9': 'September', '2': 'February', 'Jun': 'June', 'Dec': 'December', 'May': 'May', 'February': 'February', 'Feb': 'February', 'June': 'June', 'September': 'September', 'Jan': 'January'}\n",
    "dic_year = {'99': '99', '1997': '97', '97': '97', '1999': '99', '2001': '01', '1998': '98', '2000': '00', '98': '98'}\n",
    "dic_course = {'BS LM': 'BS Legal Management', 'Management': 'BS Management', 'BS ME': 'BS Management Engineering', 'LM': 'BS Legal Management', 'MGT': 'BS Management', 'ME': 'BS Management Engineering', 'Management Engineering': 'BS Management Engineering', 'ITE': 'BS IT Entrepreneurship', 'BS MGT': 'BS Management', 'CTM': 'BS Comtech', 'Information Technology Entrepreneurship': 'BS IT Entrepreneurship', 'Legal Management': 'BS Legal Management', 'BS ITE': 'BS IT Entrepreneurship', 'BS CTM': 'BS Comtech', 'Communications Technology': 'BS Comtech'}\n",
    "dic_carrier = {\"0917\":\"Globe\",\"0918\":\"Smart\", \"0927\":\"Globe\"}\n",
    "#Cleansing phonenumbers\n",
    "phone = data.loc[:,'phonenumber'].replace(r\"^\\+63 9?|^9\",\"09\",regex=True)\n",
    "\n",
    "\n"
   ]
  },
  {
   "cell_type": "code",
   "execution_count": 12,
   "metadata": {},
   "outputs": [],
   "source": [
    "#Converting int to str for dic_year\n",
    "\n",
    "def test(x):\n",
    "    word = str(x)\n",
    "    return(dic_year[word])\n",
    "test(99)\n",
    "\n",
    "#Cleansing birthmonths,years,and courses = (df.loc[:,\"mobile\"].str[0:6].apply(lambda x: carrier[x]))\n",
    "month = data.loc[:,'birthmonth'].apply(lambda x: dic_month[x])\n",
    "year =data.loc[:,'birthyear'].apply(lambda x: test(x))\n",
    "course =data.loc[:,'course'].apply(lambda x: dic_course[x])\n",
    "\n",
    "#Calling other data that don't need to be cleansed from the dirty data base\n",
    "#['firstname', 'lastname', 'birthmonth', 'birthday', 'birthyear','course', 'phonenumber','gender'],\n",
    "first = data.loc[:,\"firstname\"]\n",
    "last = data.loc[:,\"lastname\"]\n",
    "day =data.loc[:,\"birthday\"]\n",
    "gender =data.loc[:,\"gender\"]\n"
   ]
  },
  {
   "cell_type": "code",
   "execution_count": 13,
   "metadata": {},
   "outputs": [],
   "source": [
    "##rearranging cleansed data and then writing them into a csv\n",
    "clean = pd.DataFrame({\"First Name\":[x for x in first],\"Last Name\":[x for x in last],\"Birthday\":[x for x in day],\"Birthmonth\":[x for x in month],\"Birthyear\":[x for x in year],\"Course\":[x for x in course],\"Phonenumber\":[x for x in phone],\"Gender\":[x for x in gender]})\n"
   ]
  },
  {
   "cell_type": "code",
   "execution_count": 14,
   "metadata": {},
   "outputs": [],
   "source": [
    "#getting carrier\n",
    "clean[\"Carrier\"] = clean.loc[:,\"Phonenumber\"].str[0:4].apply(lambda x: dic_carrier[x])\n",
    "\n"
   ]
  },
  {
   "cell_type": "code",
   "execution_count": 122,
   "metadata": {},
   "outputs": [],
   "source": [
    "clean.to_csv(\"cleanrecweekdata3b.csv\")"
   ]
  },
  {
   "cell_type": "code",
   "execution_count": 16,
   "metadata": {},
   "outputs": [],
   "source": [
    "#different stat data\n",
    "birthmonth_df = clean.groupby([\"Birthmonth\"])[\"Last Name\"].count()\n",
    "birthday_df = clean.groupby([\"Birthday\"])[\"Last Name\"].count()\n",
    "birthyear_df = clean.groupby([\"Birthyear\"])[\"Last Name\"].count()\n",
    "course_df = clean.groupby([\"Course\"])[\"Last Name\"].count()\n",
    "carrier_df = clean.groupby([\"Carrier\"])[\"Last Name\"].count()\n",
    "gender_carrier =clean.groupby([\"Carrier\",\"Gender\"])[\"Last Name\"].count()\n"
   ]
  },
  {
   "cell_type": "markdown",
   "metadata": {},
   "source": [
    "# Required Summary Statistics\n",
    "\n",
    "#### These were the questions from 3A:\n",
    "\n",
    "1. How many people were born in each month?\n",
    "2. How many people were born on each day?\n",
    "3. How many people were born in each year?\n",
    "4. How many people come from each course?\n",
    "5. How many people have numbers from Globe (0917 or 0927) and Smart (0918)? *Note: it's up to you how to format this output*\n",
    "\n",
    "#### Additional Questions:\n",
    "* How many Globe subscribers are: Male? Female?\n",
    "* How many Smart subscribers are: Male? Female?\n",
    "\n",
    "Answer these questions in an html file called **stats3b.html**. The format of the html is as follows (in template form, so you can use this as format string in your program, though feel free to modify with variable names if you find it easier to do so):\n"
   ]
  },
  {
   "cell_type": "markdown",
   "metadata": {},
   "source": [
    "# Panda - HTML translation "
   ]
  },
  {
   "cell_type": "code",
   "execution_count": 118,
   "metadata": {},
   "outputs": [],
   "source": [
    "html = \"\"\"\n",
    "    <html>\n",
    "    \n",
    "         <head>Summary Statistics\n",
    "         <style>table, th, td {{border: 1px solid black;}}</style>\n",
    "</head>\n",
    "  </head>\n",
    "   <body>    \n",
    "             <h3>People born in each month</h3>\n",
    "              {0}\n",
    "              <h3>People born in each day</h3>\n",
    "              {1}\n",
    "              <h3>People born in each year</h3>\n",
    "              {2}\n",
    "              <h3>People in each course</h3>\n",
    "              {3}\n",
    "              <h3>People using each carrier</h3>\n",
    "              {4}\n",
    "              <h3>Carrier users by Gender</h3>\n",
    "              {5}\n",
    "              \n",
    "    </body>\n",
    "</html>\n",
    "\"\"\""
   ]
  },
  {
   "cell_type": "code",
   "execution_count": 111,
   "metadata": {},
   "outputs": [],
   "source": [
    "\n",
    "birth_list = [\"January\",\"February\",\"March\",\"April\",\"May\",\"June\",\"July\",\n",
    "                      \"August\",\"September\",\"October\",\"November\",\"December\"]\n",
    "\n",
    "#for i in birthmonth_df:\n",
    "    #print(i)\n",
    "    \n",
    "month_html = \"<table><tr><th>Months</th><th>No. of People</th></tr>\"\n",
    "for month in birth_list:\n",
    "    amount = birthmonth_df[month]\n",
    "    placeh = '<tr><td>{0}</td><td>{1}</td></tr>'.format(month,amount)\n",
    "    month_html += placeh\n",
    "    \n",
    "month_html += '</table>'\n"
   ]
  },
  {
   "cell_type": "code",
   "execution_count": 112,
   "metadata": {},
   "outputs": [],
   "source": [
    "\n",
    "#for i in birthmonth_df:\n",
    "    #print(i)\n",
    "    \n",
    "day_html = '<table><tr><th>Days</th><th>No. of People</th></tr>'\n",
    "for day in range(1,29):\n",
    "    day_str = str(day)\n",
    "    amount = birthday_df[day]\n",
    "    placeh = '<tr><td>{0}</td><td>{1}</td></tr>'.format(day_str,amount)\n",
    "    day_html += placeh\n",
    "    \n",
    "day_html += '</table>'"
   ]
  },
  {
   "cell_type": "code",
   "execution_count": 113,
   "metadata": {},
   "outputs": [],
   "source": [
    "year_list = [\"97\",\"98\",\"99\",\"00\",\"01\"]\n",
    "year_html = '<table><tr><th>Years</th><th>No. of People</th></tr>'\n",
    "for year in year_list:\n",
    "    amount = birthyear_df[year]\n",
    "    placeh = '<tr><td>{0}</td><td>{1}</td></tr>'.format(year,amount)\n",
    "    year_html += placeh\n",
    "    \n",
    "year_html += '</table>'"
   ]
  },
  {
   "cell_type": "code",
   "execution_count": 114,
   "metadata": {},
   "outputs": [],
   "source": [
    "#BS Comtech                    589\n",
    "#BS IT Entrepreneurship        590\n",
    "#BS Legal Management           585\n",
    "#BS Management                 629\n",
    "#BS Management Engineering     408\n",
    "\n",
    "course_list = [\"BS Comtech\",\"BS IT Entrepreneurship\",\"BS Legal Management\",\"BS Management Engineering\"]\n",
    "course_html = '<table><tr><th>College Course</th><th>No. of People</th></tr>'\n",
    "for course in course_list:\n",
    "    amount = course_df[course]\n",
    "    placeh = '<tr><td>{0}</td><td>{1}</td></tr>'.format(course,amount)\n",
    "    course_html += placeh\n",
    "    \n",
    "course_html += '</table>'"
   ]
  },
  {
   "cell_type": "code",
   "execution_count": 115,
   "metadata": {},
   "outputs": [],
   "source": [
    "carrier_list = [\"Globe\",\"Smart\"]\n",
    "carrier_html = '<table><tr><th>Carrier</th><th>No. of People</th></tr>'\n",
    "for carrier in carrier_list:\n",
    "    amount = carrier_df[carrier]\n",
    "    placeh = '<tr><td>{0}</td><td>{1}</td></tr>'.format(carrier,amount)\n",
    "    carrier_html += placeh\n",
    "    \n",
    "carrier_html += '</table>'"
   ]
  },
  {
   "cell_type": "code",
   "execution_count": null,
   "metadata": {},
   "outputs": [],
   "source": []
  },
  {
   "cell_type": "code",
   "execution_count": 116,
   "metadata": {},
   "outputs": [],
   "source": [
    "##<tr>\n",
    "    #<th rowspan=\"2\">Telephone:</th>\n",
    "    #<td>55577854</td>\n",
    " # </tr>\n",
    " # <tr>\n",
    "    #<td>55577855</td>\n",
    "#gender_carrier[\"Globe\"][\"Male\"]\n",
    "\n",
    "gender_list = [\"Male\",\"Female\"]\n",
    "gcarrier_html = '<table><tr><th>Carrier</th><th>Gender</th><th>No. of People</th></tr>'\n",
    "for carrier in carrier_list:\n",
    "    placeg = '<tr><th rowspan=\"2\">{0}</th>'.format(carrier)\n",
    "    gcarrier_html += placeg\n",
    "    for gender in gender_list:\n",
    "        amount = gender_carrier[carrier][gender]\n",
    "        \n",
    "        if gender == \"Male\":\n",
    "            placeh = '<td>{0}</td><td>{1}</td></tr>'.format(gender,amount)\n",
    "            gcarrier_html += placeh\n",
    "        elif gender == \"Female\":\n",
    "            placef = '<tr><td>{0}</td><td>{1}</td></tr>'.format(gender,amount)\n",
    "            gcarrier_html += placef\n",
    "gcarrier_html += '</table>'\n",
    "    \n",
    "    \n",
    "\n",
    "    "
   ]
  },
  {
   "cell_type": "code",
   "execution_count": 119,
   "metadata": {},
   "outputs": [],
   "source": [
    "final_html = html.format(month_html,day_html,year_html,course_html,carrier_html,gcarrier_html)"
   ]
  },
  {
   "cell_type": "code",
   "execution_count": 120,
   "metadata": {},
   "outputs": [],
   "source": [
    "with open(\"stats3b.html\",\"w\") as file:\n",
    "    file.write(final_html)"
   ]
  },
  {
   "cell_type": "markdown",
   "metadata": {},
   "source": [
    "```\n",
    "<html>\n",
    "    <body>\n",
    "         <h2>Summary Statistics</h2>\n",
    "         <table>\n",
    "             <tr><th>Stat</th><th>Value</th></tr>\n",
    "             <tr><td>People born in each month</td><td>{}</td></tr>\n",
    "             <tr><td>People born on each day</td><td>{}</td></tr>\n",
    "             <tr><td>People born in each year</td><td>{}</td></tr>\n",
    "             <tr><td>People coming from each course</td><td>{}</td></tr>\n",
    "             <tr><td>People having numbers from Globe and Smart</td><td>{}</td></tr>\n",
    "             <tr><td>Male Globe subscribers:</td><td>{}</td></tr>\n",
    "             <tr><td>Female Globe subscribers:</td><td>{}</td></tr>\n",
    "             <tr><td>Male Smart subscribers:</td><td>{}</td></tr>\n",
    "             <tr><td>Female Smart subscribers:</td><td>{}</td></tr>\n",
    "         </table>\n",
    "    </body>\n",
    "</html>\n",
    "```"
   ]
  }
 ],
 "metadata": {
  "kernelspec": {
   "display_name": "Python 3",
   "language": "python",
   "name": "python3"
  },
  "language_info": {
   "codemirror_mode": {
    "name": "ipython",
    "version": 3
   },
   "file_extension": ".py",
   "mimetype": "text/x-python",
   "name": "python",
   "nbconvert_exporter": "python",
   "pygments_lexer": "ipython3",
   "version": "3.7.3"
  }
 },
 "nbformat": 4,
 "nbformat_minor": 2
}
